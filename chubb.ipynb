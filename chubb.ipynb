{
  "metadata": {
    "kernelspec": {
      "name": "python",
      "display_name": "Python (Pyodide)",
      "language": "python"
    },
    "language_info": {
      "codemirror_mode": {
        "name": "python",
        "version": 3
      },
      "file_extension": ".py",
      "mimetype": "text/x-python",
      "name": "python",
      "nbconvert_exporter": "python",
      "pygments_lexer": "ipython3",
      "version": "3.8"
    }
  },
  "nbformat_minor": 5,
  "nbformat": 4,
  "cells": [
    {
      "id": "d9aa592a-a56b-4755-b32b-721928beb74c",
      "cell_type": "code",
      "source": "#Install Required Libraries\npip install openai langchain faiss-cpu requests beautifulsoup4 python-dotenv",
      "metadata": {
        "trusted": true
      },
      "outputs": [],
      "execution_count": null
    },
    {
      "id": "590af1c5-1ca6-44d7-8df1-984de64032fc",
      "cell_type": "code",
      "source": "#setup ENV variable\nOPENAI_API_KEY=your_openai_key\n",
      "metadata": {
        "trusted": true
      },
      "outputs": [],
      "execution_count": null
    },
    {
      "id": "3a1c5bfa-8f9d-405c-9276-c87c82e49a01",
      "cell_type": "code",
      "source": "#Use Sample TNFD Report\nsample_text = \"\"\"\nThe TNFD released new guidelines in April 2025 regarding the financial exposure of insurers to freshwater ecosystem degradation.\nThis report highlights risks to agricultural insurers in Sub-Saharan Africa and South Asia due to increased drought frequency.\nSuggested actions include reassessing reinsurance models and investing in ecosystem protection mechanisms.\n\"\"\"\n",
      "metadata": {
        "trusted": true
      },
      "outputs": [],
      "execution_count": null
    },
    {
      "id": "82e30357-95e6-40da-9793-dc23a0020339",
      "cell_type": "code",
      "source": "#PYTHON CODE\nimport os\nfrom dotenv import load_dotenv\nfrom langchain.llms import OpenAI\nfrom langchain.prompts import PromptTemplate\nfrom langchain.chains import LLMChain\n\nload_dotenv()\nllm = OpenAI(temperature=0.3)\n\n# Define prompt to extract risk and insurance insights\nprompt = PromptTemplate(\n    input_variables=[\"text\"],\n    template=\"\"\"\nYou are an insurance risk analyst.\nGiven the following report text, summarize:\n- The climate risk mentioned\n- Geographic regions affected\n- Insurance lines impacted\n- Recommended actions for insurers\n\nReport:\n{text}\n---\nSummary:\n\"\"\",\n)\n\nchain = LLMChain(llm=llm, prompt=prompt)\n\n# Run the agent\nresponse = chain.run(text=sample_text)\nprint(response)\n",
      "metadata": {
        "trusted": true
      },
      "outputs": [],
      "execution_count": 1
    },
    {
      "id": "033a08fd-af9a-4a02-937c-7b5ee97531d0",
      "cell_type": "code",
      "source": "#output as JSON\nimport json\nfrom langchain.output_parsers import StructuredOutputParser, ResponseSchema\n\nschemas = [\n    ResponseSchema(name=\"climate_risk\", description=\"Type of risk (e.g., drought, flood)\"),\n    ResponseSchema(name=\"regions\", description=\"Regions impacted\"),\n    ResponseSchema(name=\"insurance_lines\", description=\"Affected insurance products\"),\n    ResponseSchema(name=\"recommendations\", description=\"Actions suggested for insurers\"),\n]\n\nparser = StructuredOutputParser.from_response_schemas(schemas)\n\nprompt_template = PromptTemplate(\n    input_variables=[\"text\"],\n    partial_variables={\"format_instructions\": parser.get_format_instructions()},\n    template=\"\"\"\nAnalyze the following report and extract:\n- Climate risk type\n- Impacted regions\n- Affected insurance lines\n- Recommended actions\n\nReport:\n{text}\n\n{format_instructions}\n\"\"\",\n)\n\nstructured_chain = LLMChain(llm=llm, prompt=prompt_template)\nresult = structured_chain.run(text=sample_text)\n\n# Convert to Python dict\nparsed = parser.parse(result)\nprint(json.dumps(parsed, indent=2))\n",
      "metadata": {
        "trusted": true
      },
      "outputs": [],
      "execution_count": 2
    },
    {
      "id": "af254aca-0fb5-469a-9dce-b40cae6f3dcb",
      "cell_type": "code",
      "source": "",
      "metadata": {
        "trusted": true
      },
      "outputs": [],
      "execution_count": null
    }
  ]
}